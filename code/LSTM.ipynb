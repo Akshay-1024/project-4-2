{
  "nbformat": 4,
  "nbformat_minor": 0,
  "metadata": {
    "colab": {
      "name": "LSTM.ipynb",
      "provenance": [],
      "authorship_tag": "ABX9TyPNCtH2fKuaunksNbufLJxb",
      "include_colab_link": true
    },
    "kernelspec": {
      "name": "python3",
      "display_name": "Python 3"
    },
    "language_info": {
      "name": "python"
    }
  },
  "cells": [
    {
      "cell_type": "markdown",
      "metadata": {
        "id": "view-in-github",
        "colab_type": "text"
      },
      "source": [
        "<a href=\"https://colab.research.google.com/github/SriNithin965/project-4-2/blob/main/code/LSTM.ipynb\" target=\"_parent\"><img src=\"https://colab.research.google.com/assets/colab-badge.svg\" alt=\"Open In Colab\"/></a>"
      ]
    },
    {
      "cell_type": "code",
      "execution_count": null,
      "metadata": {
        "id": "1ijtnl6UKs3g"
      },
      "outputs": [],
      "source": [
        "!pip install pandas==1.2.0\n",
        "!pip install --upgrade xlrd"
      ]
    },
    {
      "cell_type": "code",
      "source": [
        "import pandas as pd\n",
        "import numpy as np\n",
        "import keras\n",
        "from keras.layers import Dense\n",
        "from keras.models import Sequential\n",
        "from tensorflow.keras.optimizers import Adam\n",
        "from keras.utils import np_utils\n",
        "from keras.layers import LSTM\n",
        "from sklearn.preprocessing import MinMaxScaler"
      ],
      "metadata": {
        "id": "XEWWFUcXYavM"
      },
      "execution_count": 95,
      "outputs": []
    },
    {
      "cell_type": "code",
      "source": [
        "data = pd.read_excel('https://github.com/SriNithin965/project-4-2/raw/main/data/Sample-Superstore.xls')"
      ],
      "metadata": {
        "id": "QXMr3FvLYeQ1"
      },
      "execution_count": 96,
      "outputs": []
    },
    {
      "cell_type": "code",
      "source": [
        "data1 = data[['Ship Date','Sales']]\n",
        "data1 = data1.groupby('Ship Date').sum()\n",
        "data1 = data1.resample('MS').median()\n",
        "data1.head(10)"
      ],
      "metadata": {
        "id": "Do3Q87eRY_nL"
      },
      "execution_count": null,
      "outputs": []
    },
    {
      "cell_type": "code",
      "source": [
        "data1 = data1.reset_index()\n",
        "data1"
      ],
      "metadata": {
        "id": "4rdxi0jZdil9"
      },
      "execution_count": null,
      "outputs": []
    },
    {
      "cell_type": "code",
      "source": [
        "data1.rename(columns={'Ship Date':'date','Sales':'sales'},inplace=True)\n",
        "data1"
      ],
      "metadata": {
        "id": "tIm0tlERch1Y"
      },
      "execution_count": null,
      "outputs": []
    },
    {
      "cell_type": "code",
      "source": [
        "df_diff = data1.copy()\n",
        "df_diff['prev_sales'] = df_diff['sales'].shift(1)\n",
        "df_diff = df_diff.dropna()\n",
        "df_diff['diff'] = (df_diff['sales'] - df_diff['prev_sales'])\n",
        "df_diff.head(10)"
      ],
      "metadata": {
        "id": "JC_mmaVhZD11"
      },
      "execution_count": null,
      "outputs": []
    },
    {
      "cell_type": "code",
      "source": [
        "df_supervised = df_diff.drop(['prev_sales'],axis=1)\n",
        "for inc in range(1,13):\n",
        "    field_name = 'lag_' + str(inc)\n",
        "    df_supervised[field_name] = df_supervised['diff'].shift(inc)\n",
        "df_supervised = df_supervised.dropna().reset_index(drop=True)"
      ],
      "metadata": {
        "id": "Ek_AskrHaG80"
      },
      "execution_count": 102,
      "outputs": []
    },
    {
      "cell_type": "code",
      "source": [
        "df_supervised.head(10)"
      ],
      "metadata": {
        "id": "ArfnOmIVaRnU"
      },
      "execution_count": null,
      "outputs": []
    },
    {
      "cell_type": "code",
      "source": [
        "len(df_supervised)"
      ],
      "metadata": {
        "id": "UjCi0Ua-d77V"
      },
      "execution_count": null,
      "outputs": []
    },
    {
      "cell_type": "code",
      "source": [
        "df_model = df_supervised.drop(['date','sales'],axis=1)\n",
        "train_set, test_set = df_model[0:-6].values, df_model[-6:].values"
      ],
      "metadata": {
        "id": "hOp23oYwaWiO"
      },
      "execution_count": 105,
      "outputs": []
    },
    {
      "cell_type": "code",
      "source": [
        "scaler = MinMaxScaler(feature_range=(-1, 1))\n",
        "scaler = scaler.fit(train_set)\n",
        "train_set = train_set.reshape(train_set.shape[0], train_set.shape[1])\n",
        "train_set_scaled = scaler.transform(train_set)\n",
        "test_set = test_set.reshape(test_set.shape[0], test_set.shape[1])\n",
        "test_set_scaled = scaler.transform(test_set)"
      ],
      "metadata": {
        "id": "wrvy30SYaqhd"
      },
      "execution_count": 106,
      "outputs": []
    },
    {
      "cell_type": "code",
      "source": [
        "X_train, y_train = train_set_scaled[:, 1:], train_set_scaled[:, 0:1]\n",
        "X_train = X_train.reshape(X_train.shape[0], 1, X_train.shape[1])\n",
        "X_test, y_test = test_set_scaled[:, 1:], test_set_scaled[:, 0:1]\n",
        "X_test = X_test.reshape(X_test.shape[0], 1, X_test.shape[1])"
      ],
      "metadata": {
        "id": "Qci_EQ96auYq"
      },
      "execution_count": 107,
      "outputs": []
    },
    {
      "cell_type": "code",
      "source": [
        "model = Sequential()\n",
        "model.add(LSTM(4, batch_input_shape=(1, X_train.shape[1], X_train.shape[2]), stateful=True))\n",
        "model.add(Dense(1))\n",
        "model.compile(loss='mean_squared_error', optimizer='adam')\n",
        "model.fit(X_train, y_train, epochs=100, batch_size=1, verbose=1, shuffle=False)"
      ],
      "metadata": {
        "id": "mBZ6Uygzaxnn"
      },
      "execution_count": null,
      "outputs": []
    },
    {
      "cell_type": "code",
      "source": [
        "y_pred = model.predict(X_test,batch_size=1)\n",
        "y_pred"
      ],
      "metadata": {
        "id": "PhiRl63obUBT"
      },
      "execution_count": null,
      "outputs": []
    },
    {
      "cell_type": "code",
      "source": [
        "from sklearn import metrics\n",
        "metrics.mean_absolute_error(y_test,y_pred)"
      ],
      "metadata": {
        "id": "yCroiOff4JMm"
      },
      "execution_count": null,
      "outputs": []
    },
    {
      "cell_type": "code",
      "source": [
        "y_pred = y_pred.reshape(y_pred.shape[0], 1, y_pred.shape[1])\n",
        "pred_test_set = []\n",
        "for index in range(0,len(y_pred)):\n",
        "    print(np.concatenate([y_pred[index],X_test[index]],axis=1))\n",
        "    pred_test_set.append(np.concatenate([y_pred[index],X_test[index]],axis=1))\n",
        "pred_test_set = np.array(pred_test_set)\n",
        "pred_test_set = pred_test_set.reshape(pred_test_set.shape[0], pred_test_set.shape[2])\n",
        "pred_test_set_inverted = scaler.inverse_transform(pred_test_set)"
      ],
      "metadata": {
        "id": "sHor0EF9bhSY"
      },
      "execution_count": null,
      "outputs": []
    },
    {
      "cell_type": "code",
      "source": [
        "result_list = []\n",
        "sales_dates = list(data1[-7:].date)\n",
        "act_sales = list(data1[-7:].sales)\n",
        "for index in range(0,len(pred_test_set_inverted)):\n",
        "    result_dict = {}\n",
        "    result_dict['pred_value'] = int(pred_test_set_inverted[index][0] + act_sales[index])\n",
        "    result_dict['date'] = sales_dates[index+1]\n",
        "    result_list.append(result_dict)\n",
        "df_result = pd.DataFrame(result_list)"
      ],
      "metadata": {
        "id": "voomZszOb39Z"
      },
      "execution_count": 112,
      "outputs": []
    },
    {
      "cell_type": "code",
      "source": [
        "data2 = data1.copy()\n",
        "df_re = df_result.copy()\n",
        "data2  = data2.set_index('date')\n",
        "df_re = df_re.set_index('date')"
      ],
      "metadata": {
        "id": "95XQDKtO6nEd"
      },
      "execution_count": 125,
      "outputs": []
    },
    {
      "cell_type": "code",
      "source": [
        "import matplotlib.pyplot as plt\n",
        "data2['sales'].plot(figsize=(15,5))\n",
        "df_re['pred_value'].plot()\n",
        "plt.show()"
      ],
      "metadata": {
        "id": "xUAEEWE65zcj",
        "outputId": "fc73f1aa-6749-4e04-d776-af715311827d",
        "colab": {
          "base_uri": "https://localhost:8080/",
          "height": 334
        }
      },
      "execution_count": 129,
      "outputs": [
        {
          "output_type": "display_data",
          "data": {
            "text/plain": [
              "<Figure size 1080x360 with 1 Axes>"
            ],
            "image/png": "[encoded data removed]"
          },
          "metadata": {
            "needs_background": "light"
          }
        }
      ]
    }
  ]
}