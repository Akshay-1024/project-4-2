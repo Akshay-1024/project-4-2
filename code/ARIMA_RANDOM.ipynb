{
  "nbformat": 4,
  "nbformat_minor": 0,
  "metadata": {
    "colab": {
      "name": "ARIMA_RANDOM.ipynb",
      "provenance": [],
      "authorship_tag": "ABX9TyOy+ibpEWQY8Tq4hUPTF4l0",
      "include_colab_link": true
    },
    "kernelspec": {
      "name": "python3",
      "display_name": "Python 3"
    },
    "language_info": {
      "name": "python"
    }
  },
  "cells": [
    {
      "cell_type": "markdown",
      "metadata": {
        "id": "view-in-github",
        "colab_type": "text"
      },
      "source": [
        "<a href=\"https://colab.research.google.com/github/SriNithin965/project-4-2/blob/main/code/ARIMA_RANDOM.ipynb\" target=\"_parent\"><img src=\"https://colab.research.google.com/assets/colab-badge.svg\" alt=\"Open In Colab\"/></a>"
      ]
    },
    {
      "cell_type": "markdown",
      "source": [
        "*PACKAGES INSTALLING*"
      ],
      "metadata": {
        "id": "hbVP288qpT8n"
      }
    },
    {
      "cell_type": "code",
      "execution_count": 1,
      "metadata": {
        "colab": {
          "base_uri": "https://localhost:8080/"
        },
        "id": "v9EgnET_kImY",
        "outputId": "7b57c703-5550-4b19-c14a-645cc02cedbf"
      },
      "outputs": [
        {
          "output_type": "stream",
          "name": "stdout",
          "text": [
            "Looking in indexes: https://pypi.org/simple, https://us-python.pkg.dev/colab-wheels/public/simple/\n",
            "Collecting pandas==1.2.0\n",
            "  Downloading pandas-1.2.0-cp37-cp37m-manylinux1_x86_64.whl (9.9 MB)\n",
            "\u001b[K     |████████████████████████████████| 9.9 MB 15.2 MB/s \n",
            "\u001b[?25hRequirement already satisfied: numpy>=1.16.5 in /usr/local/lib/python3.7/dist-packages (from pandas==1.2.0) (1.21.6)\n",
            "Requirement already satisfied: pytz>=2017.3 in /usr/local/lib/python3.7/dist-packages (from pandas==1.2.0) (2022.1)\n",
            "Requirement already satisfied: python-dateutil>=2.7.3 in /usr/local/lib/python3.7/dist-packages (from pandas==1.2.0) (2.8.2)\n",
            "Requirement already satisfied: six>=1.5 in /usr/local/lib/python3.7/dist-packages (from python-dateutil>=2.7.3->pandas==1.2.0) (1.15.0)\n",
            "Installing collected packages: pandas\n",
            "  Attempting uninstall: pandas\n",
            "    Found existing installation: pandas 1.3.5\n",
            "    Uninstalling pandas-1.3.5:\n",
            "      Successfully uninstalled pandas-1.3.5\n",
            "Successfully installed pandas-1.2.0\n",
            "Looking in indexes: https://pypi.org/simple, https://us-python.pkg.dev/colab-wheels/public/simple/\n",
            "Requirement already satisfied: xlrd in /usr/local/lib/python3.7/dist-packages (1.1.0)\n",
            "Collecting xlrd\n",
            "  Downloading xlrd-2.0.1-py2.py3-none-any.whl (96 kB)\n",
            "\u001b[K     |████████████████████████████████| 96 kB 3.8 MB/s \n",
            "\u001b[?25hInstalling collected packages: xlrd\n",
            "  Attempting uninstall: xlrd\n",
            "    Found existing installation: xlrd 1.1.0\n",
            "    Uninstalling xlrd-1.1.0:\n",
            "      Successfully uninstalled xlrd-1.1.0\n",
            "Successfully installed xlrd-2.0.1\n"
          ]
        }
      ],
      "source": [
        "!pip install pandas==1.2.0\n",
        "!pip install --upgrade xlrd"
      ]
    },
    {
      "cell_type": "markdown",
      "source": [
        "*IMPORT PACKAES*"
      ],
      "metadata": {
        "id": "_GwWucXfpfVu"
      }
    },
    {
      "cell_type": "code",
      "source": [
        "import pandas as pd\n",
        "import numpy as np\n",
        "import matplotlib.pyplot as plt\n",
        "from statsmodels.tsa.seasonal import seasonal_decompose\n",
        "import warnings\n",
        "import itertools\n",
        "import numpy as np\n",
        "import statsmodels.api as sm\n",
        "from sklearn.metrics import confusion_matrix"
      ],
      "metadata": {
        "id": "p61KVa0ToR1C"
      },
      "execution_count": 22,
      "outputs": []
    },
    {
      "cell_type": "markdown",
      "source": [
        "*DATA LOADING*"
      ],
      "metadata": {
        "id": "ro2GNCXnpj2O"
      }
    },
    {
      "cell_type": "code",
      "source": [
        "data = pd.read_excel('https://github.com/SriNithin965/project-4-2/raw/main/data/Sample-Superstore.xls')"
      ],
      "metadata": {
        "id": "nSQlSE6zoVod"
      },
      "execution_count": 51,
      "outputs": []
    },
    {
      "cell_type": "markdown",
      "source": [
        "*GROUPING THE DATA AND FILLING THE EMPTY VALUES BY MEDIAN*"
      ],
      "metadata": {
        "id": "t_8EH7HPpnOK"
      }
    },
    {
      "cell_type": "code",
      "source": [
        "data1 = data[['Ship Date','Sales']]\n",
        "data1 = data1.groupby('Ship Date').sum()\n",
        "data1 = data1.resample('MS').median()\n",
        "data1.head(10)"
      ],
      "metadata": {
        "colab": {
          "base_uri": "https://localhost:8080/",
          "height": 394
        },
        "id": "9ECd-0_3odCu",
        "outputId": "f0f93373-6784-43e1-9b76-55532c693ac7"
      },
      "execution_count": 52,
      "outputs": [
        {
          "output_type": "execute_result",
          "data": {
            "text/plain": [
              "              Sales\n",
              "Ship Date          \n",
              "2014-01-01  149.950\n",
              "2014-02-01  112.411\n",
              "2014-03-01  483.546\n",
              "2014-04-01  680.252\n",
              "2014-05-01  504.828\n",
              "2014-06-01  656.066\n",
              "2014-07-01  504.586\n",
              "2014-08-01  884.666\n",
              "2014-09-01  947.648\n",
              "2014-10-01  672.993"
            ],
            "text/html": [
              "\n",
              "  <div id=\"df-19410925-c385-45ed-9862-c1cb11184827\">\n",
              "    <div class=\"colab-df-container\">\n",
              "      <div>\n",
              "<style scoped>\n",
              "    .dataframe tbody tr th:only-of-type {\n",
              "        vertical-align: middle;\n",
              "    }\n",
              "\n",
              "    .dataframe tbody tr th {\n",
              "        vertical-align: top;\n",
              "    }\n",
              "\n",
              "    .dataframe thead th {\n",
              "        text-align: right;\n",
              "    }\n",
              "</style>\n",
              "<table border=\"1\" class=\"dataframe\">\n",
              "  <thead>\n",
              "    <tr style=\"text-align: right;\">\n",
              "      <th></th>\n",
              "      <th>Sales</th>\n",
              "    </tr>\n",
              "    <tr>\n",
              "      <th>Ship Date</th>\n",
              "      <th></th>\n",
              "    </tr>\n",
              "  </thead>\n",
              "  <tbody>\n",
              "    <tr>\n",
              "      <th>2014-01-01</th>\n",
              "      <td>149.950</td>\n",
              "    </tr>\n",
              "    <tr>\n",
              "      <th>2014-02-01</th>\n",
              "      <td>112.411</td>\n",
              "    </tr>\n",
              "    <tr>\n",
              "      <th>2014-03-01</th>\n",
              "      <td>483.546</td>\n",
              "    </tr>\n",
              "    <tr>\n",
              "      <th>2014-04-01</th>\n",
              "      <td>680.252</td>\n",
              "    </tr>\n",
              "    <tr>\n",
              "      <th>2014-05-01</th>\n",
              "      <td>504.828</td>\n",
              "    </tr>\n",
              "    <tr>\n",
              "      <th>2014-06-01</th>\n",
              "      <td>656.066</td>\n",
              "    </tr>\n",
              "    <tr>\n",
              "      <th>2014-07-01</th>\n",
              "      <td>504.586</td>\n",
              "    </tr>\n",
              "    <tr>\n",
              "      <th>2014-08-01</th>\n",
              "      <td>884.666</td>\n",
              "    </tr>\n",
              "    <tr>\n",
              "      <th>2014-09-01</th>\n",
              "      <td>947.648</td>\n",
              "    </tr>\n",
              "    <tr>\n",
              "      <th>2014-10-01</th>\n",
              "      <td>672.993</td>\n",
              "    </tr>\n",
              "  </tbody>\n",
              "</table>\n",
              "</div>\n",
              "      <button class=\"colab-df-convert\" onclick=\"convertToInteractive('df-19410925-c385-45ed-9862-c1cb11184827')\"\n",
              "              title=\"Convert this dataframe to an interactive table.\"\n",
              "              style=\"display:none;\">\n",
              "        \n",
              "  <svg xmlns=\"http://www.w3.org/2000/svg\" height=\"24px\"viewBox=\"0 0 24 24\"\n",
              "       width=\"24px\">\n",
              "    <path d=\"M0 0h24v24H0V0z\" fill=\"none\"/>\n",
              "    <path d=\"M18.56 5.44l.94 2.06.94-2.06 2.06-.94-2.06-.94-.94-2.06-.94 2.06-2.06.94zm-11 1L8.5 8.5l.94-2.06 2.06-.94-2.06-.94L8.5 2.5l-.94 2.06-2.06.94zm10 10l.94 2.06.94-2.06 2.06-.94-2.06-.94-.94-2.06-.94 2.06-2.06.94z\"/><path d=\"M17.41 7.96l-1.37-1.37c-.4-.4-.92-.59-1.43-.59-.52 0-1.04.2-1.43.59L10.3 9.45l-7.72 7.72c-.78.78-.78 2.05 0 2.83L4 21.41c.39.39.9.59 1.41.59.51 0 1.02-.2 1.41-.59l7.78-7.78 2.81-2.81c.8-.78.8-2.07 0-2.86zM5.41 20L4 18.59l7.72-7.72 1.47 1.35L5.41 20z\"/>\n",
              "  </svg>\n",
              "      </button>\n",
              "      \n",
              "  <style>\n",
              "    .colab-df-container {\n",
              "      display:flex;\n",
              "      flex-wrap:wrap;\n",
              "      gap: 12px;\n",
              "    }\n",
              "\n",
              "    .colab-df-convert {\n",
              "      background-color: #E8F0FE;\n",
              "      border: none;\n",
              "      border-radius: 50%;\n",
              "      cursor: pointer;\n",
              "      display: none;\n",
              "      fill: #1967D2;\n",
              "      height: 32px;\n",
              "      padding: 0 0 0 0;\n",
              "      width: 32px;\n",
              "    }\n",
              "\n",
              "    .colab-df-convert:hover {\n",
              "      background-color: #E2EBFA;\n",
              "      box-shadow: 0px 1px 2px rgba(60, 64, 67, 0.3), 0px 1px 3px 1px rgba(60, 64, 67, 0.15);\n",
              "      fill: #174EA6;\n",
              "    }\n",
              "\n",
              "    [theme=dark] .colab-df-convert {\n",
              "      background-color: #3B4455;\n",
              "      fill: #D2E3FC;\n",
              "    }\n",
              "\n",
              "    [theme=dark] .colab-df-convert:hover {\n",
              "      background-color: #434B5C;\n",
              "      box-shadow: 0px 1px 3px 1px rgba(0, 0, 0, 0.15);\n",
              "      filter: drop-shadow(0px 1px 2px rgba(0, 0, 0, 0.3));\n",
              "      fill: #FFFFFF;\n",
              "    }\n",
              "  </style>\n",
              "\n",
              "      <script>\n",
              "        const buttonEl =\n",
              "          document.querySelector('#df-19410925-c385-45ed-9862-c1cb11184827 button.colab-df-convert');\n",
              "        buttonEl.style.display =\n",
              "          google.colab.kernel.accessAllowed ? 'block' : 'none';\n",
              "\n",
              "        async function convertToInteractive(key) {\n",
              "          const element = document.querySelector('#df-19410925-c385-45ed-9862-c1cb11184827');\n",
              "          const dataTable =\n",
              "            await google.colab.kernel.invokeFunction('convertToInteractive',\n",
              "                                                     [key], {});\n",
              "          if (!dataTable) return;\n",
              "\n",
              "          const docLinkHtml = 'Like what you see? Visit the ' +\n",
              "            '<a target=\"_blank\" href=https://colab.research.google.com/notebooks/data_table.ipynb>data table notebook</a>'\n",
              "            + ' to learn more about interactive tables.';\n",
              "          element.innerHTML = '';\n",
              "          dataTable['output_type'] = 'display_data';\n",
              "          await google.colab.output.renderOutput(dataTable, element);\n",
              "          const docLink = document.createElement('div');\n",
              "          docLink.innerHTML = docLinkHtml;\n",
              "          element.appendChild(docLink);\n",
              "        }\n",
              "      </script>\n",
              "    </div>\n",
              "  </div>\n",
              "  "
            ]
          },
          "metadata": {},
          "execution_count": 52
        }
      ]
    },
    {
      "cell_type": "markdown",
      "source": [
        "*HERE THE PLOT*"
      ],
      "metadata": {
        "id": "fw1LAt9XpySS"
      }
    },
    {
      "cell_type": "code",
      "source": [
        "data1.plot(figsize=(15,5))\n",
        "plt.show()"
      ],
      "metadata": {
        "colab": {
          "base_uri": "https://localhost:8080/",
          "height": 334
        },
        "id": "nAI04u5Nojrq",
        "outputId": "b2acee3e-1227-41a3-dbd5-ab6c22dfee8d"
      },
      "execution_count": 53,
      "outputs": [
        {
          "output_type": "display_data",
          "data": {
            "text/plain": [
              "<Figure size 1080x360 with 1 Axes>"
            ],
            "image/png": "[encoded data removed]"
          },
          "metadata": {
            "needs_background": "light"
          }
        }
      ]
    },
    {
      "cell_type": "markdown",
      "source": [
        "*INTIALING THE HYPER PARAMETERS*"
      ],
      "metadata": {
        "id": "5OPpRndBp15v"
      }
    },
    {
      "cell_type": "code",
      "source": [
        "p = d = q = range(0,2)\n",
        "pdq = list(itertools.product(p,d,q))\n",
        "print(pdq)"
      ],
      "metadata": {
        "colab": {
          "base_uri": "https://localhost:8080/"
        },
        "id": "F82hJRRhotr4",
        "outputId": "ef19138b-be47-4347-b177-03f4423703ed"
      },
      "execution_count": 58,
      "outputs": [
        {
          "output_type": "stream",
          "name": "stdout",
          "text": [
            "[(0, 0, 0), (0, 0, 1), (0, 1, 0), (0, 1, 1), (1, 0, 0), (1, 0, 1), (1, 1, 0), (1, 1, 1)]\n"
          ]
        }
      ]
    },
    {
      "cell_type": "code",
      "source": [
        "seasons = 12\n",
        "seasonal_pdq = [   (x[0],x[1],x[2], seasons)  for x in pdq] \n",
        "seasonal_pdq"
      ],
      "metadata": {
        "colab": {
          "base_uri": "https://localhost:8080/"
        },
        "id": "o4V0TnvYo069",
        "outputId": "a26118cc-3471-46c2-9ebf-5273e7a97d16"
      },
      "execution_count": 59,
      "outputs": [
        {
          "output_type": "execute_result",
          "data": {
            "text/plain": [
              "[(0, 0, 0, 12),\n",
              " (0, 0, 1, 12),\n",
              " (0, 1, 0, 12),\n",
              " (0, 1, 1, 12),\n",
              " (1, 0, 0, 12),\n",
              " (1, 0, 1, 12),\n",
              " (1, 1, 0, 12),\n",
              " (1, 1, 1, 12)]"
            ]
          },
          "metadata": {},
          "execution_count": 59
        }
      ]
    },
    {
      "cell_type": "markdown",
      "source": [
        "*APPLYING RANDOM SEARCH TO FIND BETTER HYPERPARAMETERS*"
      ],
      "metadata": {
        "id": "DAuA3SA_p8UY"
      }
    },
    {
      "cell_type": "code",
      "source": [
        "min_pdq = (999,999,999)\n",
        "min_spdq = (999,999,999,12)\n",
        "min_AIC = 999\n",
        "#we'll search for 25 iterations\n",
        "max_iter=25\n",
        "for _ in range(max_iter):\n",
        "  index_pdq=np.random.randint(low=0,high=len(pdq))\n",
        "  index_spdq=np.random.randint(low=0,high=len(seasonal_pdq))\n",
        "  param=pdq[index_pdq]\n",
        "  sparam=seasonal_pdq[index_spdq]\n",
        "  try:\n",
        "    model = sm.tsa.statespace.SARIMAX(data1, order=param, seasonal_order=sparam, enforce_stationarity=False)\n",
        "    predictions = model.fit()\n",
        "    print('Model={}X{}. AIC= {}'.format(param, sparam, predictions.aic))\n",
        "    if(predictions.aic < min_AIC):\n",
        "      min_pdq = param\n",
        "      min_spdq = sparam\n",
        "      min_AIC = predictions.aic\n",
        "  except Exception as e:\n",
        "    print(e)\n",
        "    continue\n",
        "\n",
        "print('**** Smallest PDQ,SPDQ is *****')\n",
        "print(min_AIC)\n",
        "print(min_pdq)\n",
        "print(min_spdq)"
      ],
      "metadata": {
        "colab": {
          "base_uri": "https://localhost:8080/"
        },
        "id": "K6cwhARto4EE",
        "outputId": "1f869337-1c42-46f2-89e8-206a37370253"
      },
      "execution_count": 61,
      "outputs": [
        {
          "output_type": "stream",
          "name": "stdout",
          "text": [
            "Model=(0, 1, 1)X(0, 1, 0, 12). AIC= 515.3645787995317\n",
            "Model=(0, 1, 1)X(0, 1, 0, 12). AIC= 515.3645787995317\n"
          ]
        },
        {
          "output_type": "stream",
          "name": "stderr",
          "text": [
            "/usr/local/lib/python3.7/dist-packages/statsmodels/tsa/statespace/sarimax.py:993: UserWarning: Non-invertible starting seasonal moving average Using zeros as starting parameters.\n",
            "  warn('Non-invertible starting seasonal moving average'\n",
            "/usr/local/lib/python3.7/dist-packages/statsmodels/base/model.py:512: ConvergenceWarning: Maximum Likelihood optimization failed to converge. Check mle_retvals\n",
            "  \"Check mle_retvals\", ConvergenceWarning)\n"
          ]
        },
        {
          "output_type": "stream",
          "name": "stdout",
          "text": [
            "Model=(1, 1, 1)X(0, 0, 1, 12). AIC= 535.6583616655267\n",
            "Model=(0, 1, 1)X(1, 1, 0, 12). AIC= 358.2163849793523\n"
          ]
        },
        {
          "output_type": "stream",
          "name": "stderr",
          "text": [
            "/usr/local/lib/python3.7/dist-packages/statsmodels/base/model.py:512: ConvergenceWarning: Maximum Likelihood optimization failed to converge. Check mle_retvals\n",
            "  \"Check mle_retvals\", ConvergenceWarning)\n"
          ]
        },
        {
          "output_type": "stream",
          "name": "stdout",
          "text": [
            "Model=(1, 1, 1)X(0, 0, 1, 12). AIC= 535.6583616655267\n",
            "Model=(0, 1, 1)X(1, 1, 0, 12). AIC= 358.2163849793523\n",
            "Model=(1, 1, 1)X(1, 0, 1, 12). AIC= 515.0815125333386\n",
            "Model=(1, 1, 1)X(1, 0, 0, 12). AIC= 532.145619705319\n",
            "Model=(0, 1, 0)X(0, 0, 0, 12). AIC= 770.5776330197896\n",
            "Model=(0, 0, 1)X(1, 0, 0, 12). AIC= 563.2408438634151\n"
          ]
        },
        {
          "output_type": "stream",
          "name": "stderr",
          "text": [
            "/usr/local/lib/python3.7/dist-packages/statsmodels/tsa/statespace/sarimax.py:887: RuntimeWarning: Mean of empty slice.\n",
            "  params_variance = (residuals[k_params_ma:]**2).mean()\n",
            "/usr/local/lib/python3.7/dist-packages/numpy/core/_methods.py:189: RuntimeWarning: invalid value encountered in double_scalars\n",
            "  ret = ret.dtype.type(ret / rcount)\n",
            "/usr/local/lib/python3.7/dist-packages/statsmodels/base/model.py:512: ConvergenceWarning: Maximum Likelihood optimization failed to converge. Check mle_retvals\n",
            "  \"Check mle_retvals\", ConvergenceWarning)\n"
          ]
        },
        {
          "output_type": "stream",
          "name": "stdout",
          "text": [
            "Model=(0, 0, 0)X(0, 1, 1, 12). AIC= nan\n",
            "Model=(0, 1, 0)X(1, 0, 0, 12). AIC= 567.0522968796655\n",
            "maxlag should be < nobs\n",
            "Model=(1, 1, 0)X(1, 0, 1, 12). AIC= 540.5593852515389\n",
            "Model=(1, 0, 1)X(0, 1, 1, 12). AIC= 346.66852201463945\n",
            "Model=(1, 0, 1)X(0, 0, 1, 12). AIC= 548.2246966129934\n"
          ]
        },
        {
          "output_type": "stream",
          "name": "stderr",
          "text": [
            "/usr/local/lib/python3.7/dist-packages/statsmodels/base/model.py:512: ConvergenceWarning: Maximum Likelihood optimization failed to converge. Check mle_retvals\n",
            "  \"Check mle_retvals\", ConvergenceWarning)\n"
          ]
        },
        {
          "output_type": "stream",
          "name": "stdout",
          "text": [
            "Model=(0, 0, 1)X(1, 0, 0, 12). AIC= 563.2408438634151\n",
            "Model=(0, 0, 1)X(1, 1, 0, 12). AIC= 380.77810747416595\n",
            "Model=(1, 0, 0)X(0, 1, 1, 12). AIC= 365.75777451714504\n",
            "Model=(0, 0, 1)X(1, 0, 0, 12). AIC= 563.2408438634151\n",
            "Model=(1, 1, 0)X(0, 1, 0, 12). AIC= 540.7959104290974\n",
            "Model=(1, 1, 1)X(0, 0, 0, 12). AIC= 737.4023289327201\n",
            "Model=(0, 1, 0)X(0, 0, 1, 12). AIC= 562.6062307640997\n",
            "Model=(0, 1, 0)X(1, 0, 0, 12). AIC= 567.0522968796655\n",
            "Model=(0, 0, 1)X(1, 0, 1, 12). AIC= 527.1505276449396\n",
            "**** Smallest PDQ,SPDQ is *****\n",
            "346.66852201463945\n",
            "(1, 0, 1)\n",
            "(0, 1, 1, 12)\n"
          ]
        }
      ]
    },
    {
      "cell_type": "markdown",
      "source": [
        "*HERE THE MODEL BULIDING AND FITTING*"
      ],
      "metadata": {
        "id": "zNK8IJRuqC0-"
      }
    },
    {
      "cell_type": "code",
      "source": [
        "model = sm.tsa.statespace.SARIMAX(data1, order=min_pdq, seasonal_order= min_spdq, enforce_stationarity=False)\n",
        "results = model.fit()"
      ],
      "metadata": {
        "colab": {
          "base_uri": "https://localhost:8080/"
        },
        "id": "rzepIe3Jo-OM",
        "outputId": "021dbdef-9f82-414e-d9e5-5d59950b3cce"
      },
      "execution_count": 62,
      "outputs": [
        {
          "output_type": "stream",
          "name": "stderr",
          "text": [
            "/usr/local/lib/python3.7/dist-packages/statsmodels/tsa/statespace/sarimax.py:887: RuntimeWarning: Mean of empty slice.\n",
            "  params_variance = (residuals[k_params_ma:]**2).mean()\n",
            "/usr/local/lib/python3.7/dist-packages/numpy/core/_methods.py:189: RuntimeWarning: invalid value encountered in double_scalars\n",
            "  ret = ret.dtype.type(ret / rcount)\n",
            "/usr/local/lib/python3.7/dist-packages/statsmodels/tsa/statespace/sarimax.py:993: UserWarning: Non-invertible starting seasonal moving average Using zeros as starting parameters.\n",
            "  warn('Non-invertible starting seasonal moving average'\n"
          ]
        }
      ]
    },
    {
      "cell_type": "code",
      "source": [
        "results.summary()"
      ],
      "metadata": {
        "colab": {
          "base_uri": "https://localhost:8080/",
          "height": 465
        },
        "id": "jCcTIKnPpBX-",
        "outputId": "4a028d0b-c38c-4451-e609-3955ca79f7da"
      },
      "execution_count": 63,
      "outputs": [
        {
          "output_type": "execute_result",
          "data": {
            "text/plain": [
              "<class 'statsmodels.iolib.summary.Summary'>\n",
              "\"\"\"\n",
              "                                 Statespace Model Results                                 \n",
              "==========================================================================================\n",
              "Dep. Variable:                              Sales   No. Observations:                   49\n",
              "Model:             SARIMAX(1, 0, 1)x(0, 1, 1, 12)   Log Likelihood                -169.334\n",
              "Date:                            Wed, 08 Jun 2022   AIC                            346.669\n",
              "Time:                                    05:33:35   BIC                            351.210\n",
              "Sample:                                01-01-2014   HQIC                           347.811\n",
              "                                     - 01-01-2018                                         \n",
              "Covariance Type:                              opg                                         \n",
              "==============================================================================\n",
              "                 coef    std err          z      P>|z|      [0.025      0.975]\n",
              "------------------------------------------------------------------------------\n",
              "ar.L1          1.0091      0.035     28.607      0.000       0.940       1.078\n",
              "ma.L1         -0.9998      0.210     -4.771      0.000      -1.411      -0.589\n",
              "ma.S.L12      -0.2973      0.322     -0.923      0.356      -0.929       0.334\n",
              "sigma2      1.363e+05   1.54e-06   8.87e+10      0.000    1.36e+05    1.36e+05\n",
              "===================================================================================\n",
              "Ljung-Box (Q):                         nan   Jarque-Bera (JB):                14.63\n",
              "Prob(Q):                               nan   Prob(JB):                         0.00\n",
              "Heteroskedasticity (H):               2.35   Skew:                             1.42\n",
              "Prob(H) (two-sided):                  0.25   Kurtosis:                         5.69\n",
              "===================================================================================\n",
              "\n",
              "Warnings:\n",
              "[1] Covariance matrix calculated using the outer product of gradients (complex-step).\n",
              "[2] Covariance matrix is singular or near-singular, with condition number 2.54e+26. Standard errors may be unstable.\n",
              "\"\"\""
            ],
            "text/html": [
              "<table class=\"simpletable\">\n",
              "<caption>Statespace Model Results</caption>\n",
              "<tr>\n",
              "  <th>Dep. Variable:</th>                <td>Sales</td>             <th>  No. Observations:  </th>    <td>49</td>   \n",
              "</tr>\n",
              "<tr>\n",
              "  <th>Model:</th>           <td>SARIMAX(1, 0, 1)x(0, 1, 1, 12)</td> <th>  Log Likelihood     </th> <td>-169.334</td>\n",
              "</tr>\n",
              "<tr>\n",
              "  <th>Date:</th>                   <td>Wed, 08 Jun 2022</td>        <th>  AIC                </th>  <td>346.669</td>\n",
              "</tr>\n",
              "<tr>\n",
              "  <th>Time:</th>                       <td>05:33:35</td>            <th>  BIC                </th>  <td>351.210</td>\n",
              "</tr>\n",
              "<tr>\n",
              "  <th>Sample:</th>                    <td>01-01-2014</td>           <th>  HQIC               </th>  <td>347.811</td>\n",
              "</tr>\n",
              "<tr>\n",
              "  <th></th>                          <td>- 01-01-2018</td>          <th>                     </th>     <td> </td>   \n",
              "</tr>\n",
              "<tr>\n",
              "  <th>Covariance Type:</th>               <td>opg</td>              <th>                     </th>     <td> </td>   \n",
              "</tr>\n",
              "</table>\n",
              "<table class=\"simpletable\">\n",
              "<tr>\n",
              "      <td></td>        <th>coef</th>     <th>std err</th>      <th>z</th>      <th>P>|z|</th>  <th>[0.025</th>    <th>0.975]</th>  \n",
              "</tr>\n",
              "<tr>\n",
              "  <th>ar.L1</th>    <td>    1.0091</td> <td>    0.035</td> <td>   28.607</td> <td> 0.000</td> <td>    0.940</td> <td>    1.078</td>\n",
              "</tr>\n",
              "<tr>\n",
              "  <th>ma.L1</th>    <td>   -0.9998</td> <td>    0.210</td> <td>   -4.771</td> <td> 0.000</td> <td>   -1.411</td> <td>   -0.589</td>\n",
              "</tr>\n",
              "<tr>\n",
              "  <th>ma.S.L12</th> <td>   -0.2973</td> <td>    0.322</td> <td>   -0.923</td> <td> 0.356</td> <td>   -0.929</td> <td>    0.334</td>\n",
              "</tr>\n",
              "<tr>\n",
              "  <th>sigma2</th>   <td> 1.363e+05</td> <td> 1.54e-06</td> <td> 8.87e+10</td> <td> 0.000</td> <td> 1.36e+05</td> <td> 1.36e+05</td>\n",
              "</tr>\n",
              "</table>\n",
              "<table class=\"simpletable\">\n",
              "<tr>\n",
              "  <th>Ljung-Box (Q):</th>           <td>nan</td> <th>  Jarque-Bera (JB):  </th> <td>14.63</td>\n",
              "</tr>\n",
              "<tr>\n",
              "  <th>Prob(Q):</th>                 <td>nan</td> <th>  Prob(JB):          </th> <td>0.00</td> \n",
              "</tr>\n",
              "<tr>\n",
              "  <th>Heteroskedasticity (H):</th> <td>2.35</td> <th>  Skew:              </th> <td>1.42</td> \n",
              "</tr>\n",
              "<tr>\n",
              "  <th>Prob(H) (two-sided):</th>    <td>0.25</td> <th>  Kurtosis:          </th> <td>5.69</td> \n",
              "</tr>\n",
              "</table><br/><br/>Warnings:<br/>[1] Covariance matrix calculated using the outer product of gradients (complex-step).<br/>[2] Covariance matrix is singular or near-singular, with condition number 2.54e+26. Standard errors may be unstable."
            ]
          },
          "metadata": {},
          "execution_count": 63
        }
      ]
    },
    {
      "cell_type": "markdown",
      "source": [
        "*HERE THE PREDICTIONS*"
      ],
      "metadata": {
        "id": "skTHRiCiqJZ7"
      }
    },
    {
      "cell_type": "code",
      "source": [
        "pred = results.get_prediction(start=pd.to_datetime('2014-01-01'), dynamic=False)\n",
        "pred_ci = pred.conf_int()\n",
        "ax = data1['2014':].plot(label='actual')\n",
        "pred.predicted_mean.plot(ax=ax, label='One-Step-Ahead Forecast')\n",
        "ax.fill_between(pred_ci.index, pred_ci.iloc[:,0], pred_ci.iloc[:,1], color='k', alpha=0.2)\n",
        "ax.set_xlabel('Months')\n",
        "ax.set_ylabel('Algo 1 Forecast')\n",
        "plt.legend()\n",
        "plt.show()"
      ],
      "metadata": {
        "colab": {
          "base_uri": "https://localhost:8080/",
          "height": 279
        },
        "id": "uGwptgmqpEmZ",
        "outputId": "df6d4166-a2dd-4e4b-c6ff-397a1b41dd6f"
      },
      "execution_count": 64,
      "outputs": [
        {
          "output_type": "display_data",
          "data": {
            "text/plain": [
              "<Figure size 432x288 with 1 Axes>"
            ],
            "image/png": "[encoded data removed]"
          },
          "metadata": {
            "needs_background": "light"
          }
        }
      ]
    }
  ]
}